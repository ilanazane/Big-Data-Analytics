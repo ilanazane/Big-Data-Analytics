{
 "cells": [
  {
   "cell_type": "markdown",
   "id": "cd97d3a6",
   "metadata": {},
   "source": [
    "# Import Statements"
   ]
  },
  {
   "cell_type": "code",
   "execution_count": 456,
   "id": "f38a88c0",
   "metadata": {},
   "outputs": [],
   "source": [
    "import numpy as np \n",
    "import pandas as pd\n",
    "import matplotlib.pyplot as plt \n",
    "from pyspark.sql import SparkSession\n",
    "\n",
    "from pyspark.ml.classification import LogisticRegression\n",
    "from pyspark.ml.feature import OneHotEncoder,StringIndexer,VectorAssembler\n",
    "from pyspark.ml.classification import DecisionTreeClassifier\n",
    "from pyspark.ml.classification import RandomForestClassifier\n",
    "from pyspark.ml.classification import GBTClassifier\n",
    "from pyspark.sql.functions import split\n",
    "import pyspark.sql.functions as f\n",
    "from pyspark.ml import Pipeline\n",
    "from pyspark.sql.functions import col\n",
    "\n",
    "from pyspark.sql.functions import lit"
   ]
  },
  {
   "cell_type": "markdown",
   "id": "c9df4359",
   "metadata": {},
   "source": [
    "# Prepare Training Data"
   ]
  },
  {
   "cell_type": "code",
   "execution_count": 458,
   "id": "127cdad6",
   "metadata": {},
   "outputs": [
    {
     "name": "stdout",
     "output_type": "stream",
     "text": [
      "+------+-------+--------------+\n",
      "|userID|trackID|recommendation|\n",
      "+------+-------+--------------+\n",
      "|200031|  30877|             1|\n",
      "|200031|   8244|             1|\n",
      "|200031| 130183|             0|\n",
      "|200031| 198762|             0|\n",
      "|200031|  34503|             1|\n",
      "|200031| 227283|             0|\n",
      "+------+-------+--------------+\n",
      "only showing top 6 rows\n",
      "\n"
     ]
    }
   ],
   "source": [
    "spark = SparkSession \\\n",
    "    .builder \\\n",
    "    .appName(\"recommend-ML\") \\\n",
    "    .config(\"spark.some.config.option\", \"some-value\") \\\n",
    "    .getOrCreate()\n",
    "\n",
    "df=spark.read.options(delimiter='|').csv('test2_new.txt', header=False)\n",
    "#df.printSchema()\n",
    "df = df.withColumnRenamed(\"_c0\", \"userID\").withColumnRenamed(\"_c1\", \"trackID\").withColumnRenamed(\"_c2\", \"recommendation\")\n",
    "\n",
    "df1 = df.selectExpr(\"cast(userID as integer) userID\",\n",
    "    \"cast(trackID as integer) trackID\",\n",
    "    \"cast(recommendation as integer) recommendation\")\n",
    "#df1.printSchema()\n",
    "cols = df1.columns\n",
    "df1.show(6)"
   ]
  },
  {
   "cell_type": "code",
   "execution_count": 460,
   "id": "8a889434",
   "metadata": {},
   "outputs": [],
   "source": [
    "numericCols = ['userID','trackID']\n",
    "stages = []\n",
    "assemblerInputs = numericCols \n",
    "assembler = VectorAssembler(inputCols = assemblerInputs,outputCol='features')\n",
    "stages += [assembler]"
   ]
  },
  {
   "cell_type": "code",
   "execution_count": 461,
   "id": "08ac4ee5",
   "metadata": {},
   "outputs": [],
   "source": [
    "label_stringIdx = StringIndexer(inputCol = 'recommendation',outputCol = 'label')\n",
    "stages += [label_stringIdx]"
   ]
  },
  {
   "cell_type": "code",
   "execution_count": 462,
   "id": "0dddc2ea",
   "metadata": {},
   "outputs": [
    {
     "name": "stdout",
     "output_type": "stream",
     "text": [
      "root\n",
      " |-- label: double (nullable = false)\n",
      " |-- features: vector (nullable = true)\n",
      " |-- userID: integer (nullable = true)\n",
      " |-- trackID: integer (nullable = true)\n",
      " |-- recommendation: integer (nullable = true)\n",
      "\n"
     ]
    }
   ],
   "source": [
    "pipeline = Pipeline(stages = stages)\n",
    "pipelineModel = pipeline.fit(df1)\n",
    "df1 = pipelineModel.transform(df1)\n",
    "selectedCols = ['label','features'] + cols\n",
    "df1 = df1.select(selectedCols)\n",
    "df1.printSchema()"
   ]
  },
  {
   "cell_type": "markdown",
   "id": "07269883",
   "metadata": {},
   "source": [
    "# Prepare Testing Data"
   ]
  },
  {
   "cell_type": "code",
   "execution_count": null,
   "id": "e8b43638",
   "metadata": {},
   "outputs": [],
   "source": [
    "df_final = spark.read.options(delimiter='|').csv('testTrack_hierarchy.txt', header=False)\n",
    "#df_final.printSchema()\n",
    "df_final = df_final.withColumnRenamed(\"_c0\", \"userID\").withColumnRenamed(\"_c1\", \"TrackID\")\n",
    "\n",
    "cols2 = (\"_c2\",\"_c3\")\n",
    "df_final = df_final.drop(*cols2)\n",
    "\n",
    "#DF_FINAL CONTAINS USERID, TRACKID, AND ALL 0'S FOR THE RECOMMENDATION \n",
    "df_final = df_final.withColumn(\"Predictor\",lit(0))\n",
    "\n",
    "\n",
    "df_final = df_final.selectExpr(\"cast(userID as integer) userID\",\n",
    "    \"cast(TrackID as integer) TrackID\",\n",
    "    \"cast(Predictor as integer) Predictor\")\n",
    "\n",
    "df_final.show(6)"
   ]
  },
  {
   "cell_type": "code",
   "execution_count": null,
   "id": "845d50f0",
   "metadata": {},
   "outputs": [],
   "source": [
    "cols2 = df_final.columns\n",
    "\n",
    "numericCols2 = ['userID','TrackID']\n",
    "stages2 = []\n",
    "assemblerInputs2 = numericCols2 \n",
    "assembler2 = VectorAssembler(inputCols = assemblerInputs2,outputCol='features')\n",
    "stages2 += [assembler2]\n",
    "\n",
    "\n",
    "label_stringIdx2 = StringIndexer(inputCol = 'Predictor',outputCol = 'label')\n",
    "stages2 += [label_stringIdx2]\n",
    "\n",
    "pipeline = Pipeline(stages = stages2)\n",
    "pipelineModel2 = pipeline.fit(df_final)\n",
    "df_final = pipelineModel2.transform(df_final)\n",
    "selectedCols2 = ['label','features'] + cols2\n",
    "df_final = df_final.select(selectedCols2)\n",
    "df_final.printSchema()"
   ]
  },
  {
   "cell_type": "markdown",
   "id": "8f044a44",
   "metadata": {},
   "source": [
    "# Split Training into Training and Validation"
   ]
  },
  {
   "cell_type": "code",
   "execution_count": 463,
   "id": "b4516d55",
   "metadata": {},
   "outputs": [
    {
     "name": "stdout",
     "output_type": "stream",
     "text": [
      "Train Dataset Count: 3600\n",
      "Test Dataset Count: 2400\n",
      "+-----+-------------------+------+-------+--------------+\n",
      "|label|           features|userID|trackID|recommendation|\n",
      "+-----+-------------------+------+-------+--------------+\n",
      "|  1.0| [200031.0,30877.0]|200031|  30877|             1|\n",
      "|  1.0|  [200031.0,8244.0]|200031|   8244|             1|\n",
      "|  0.0|[200031.0,130183.0]|200031| 130183|             0|\n",
      "|  0.0|[200031.0,198762.0]|200031| 198762|             0|\n",
      "|  1.0| [200031.0,34503.0]|200031|  34503|             1|\n",
      "+-----+-------------------+------+-------+--------------+\n",
      "only showing top 5 rows\n",
      "\n"
     ]
    }
   ],
   "source": [
    "test = df1.where(df1[\"userID\"].between(20031, 205246))\n",
    "train = df1.where(df1[\"userID\"].between(205249, 212234))\n",
    "\n",
    "test = df1.where(df1[\"userID\"].between(20031, 205246))\n",
    "\n",
    "print(\"Train Dataset Count: \" + str(train.count()))\n",
    "print(\"Test Dataset Count: \" + str(test.count()))\n",
    "\n",
    "test.show(5)\n",
    "\n",
    "\n"
   ]
  },
  {
   "cell_type": "markdown",
   "id": "a59ab0de",
   "metadata": {},
   "source": [
    "# Linear Regression Classifier Training "
   ]
  },
  {
   "cell_type": "code",
   "execution_count": 465,
   "id": "1665e5cd",
   "metadata": {},
   "outputs": [],
   "source": [
    "lr = LogisticRegression(featuresCol = 'features',labelCol = 'label',maxIter = 3)\n",
    "lrModel = lr.fit(train)"
   ]
  },
  {
   "cell_type": "code",
   "execution_count": 466,
   "id": "566a0662",
   "metadata": {},
   "outputs": [
    {
     "data": {
      "image/png": "[encoded data removed]",
      "text/plain": [
       "<Figure size 432x288 with 1 Axes>"
      ]
     },
     "metadata": {
      "needs_background": "light"
     },
     "output_type": "display_data"
    }
   ],
   "source": [
    "beta = np.sort(lrModel.coefficients)\n",
    "plt.plot(beta)\n",
    "plt.ylabel('Beta Coefficients')\n",
    "plt.show()"
   ]
  },
  {
   "cell_type": "code",
   "execution_count": 467,
   "id": "7bc62ce8",
   "metadata": {},
   "outputs": [
    {
     "name": "stderr",
     "output_type": "stream",
     "text": [
      "/usr/local/lib/python3.9/site-packages/pyspark/sql/context.py:125: FutureWarning: Deprecated in 3.0.0. Use SparkSession.builder.getOrCreate() instead.\n",
      "  warnings.warn(\n"
     ]
    },
    {
     "data": {
      "image/png": "[encoded data removed]",
      "text/plain": [
       "<Figure size 432x288 with 1 Axes>"
      ]
     },
     "metadata": {
      "needs_background": "light"
     },
     "output_type": "display_data"
    },
    {
     "name": "stdout",
     "output_type": "stream",
     "text": [
      "Trainign set areaUnderROC:0.5217462962962961\n"
     ]
    }
   ],
   "source": [
    "trainingSummary = lrModel.summary\n",
    "roc = trainingSummary.roc.toPandas()\n",
    "plt.plot(roc['FPR'],roc['TPR'])\n",
    "plt.ylabel('False Positive Rate')\n",
    "plt.xlabel('True Positive Rate')\n",
    "plt.title('ROC Curve')\n",
    "plt.show()\n",
    "print('Trainign set areaUnderROC:' +str(trainingSummary.areaUnderROC))"
   ]
  },
  {
   "cell_type": "code",
   "execution_count": 468,
   "id": "4ca92bc1",
   "metadata": {},
   "outputs": [
    {
     "name": "stdout",
     "output_type": "stream",
     "text": [
      "+------+-------+-----+--------------------+--------------------+----------+\n",
      "|userID|trackID|label|         probability|       rawPrediction|prediction|\n",
      "+------+-------+-----+--------------------+--------------------+----------+\n",
      "|200031|  30877|  1.0|[0.47220188059770...|[-0.1113072537020...|       1.0|\n",
      "|200031|   8244|  1.0|[0.46734337619766...|[-0.1308127151228...|       1.0|\n",
      "|200031| 130183|  0.0|[0.49356939404158...|[-0.0257238422297...|       1.0|\n",
      "|200031| 198762|  0.0|[0.50834386941234...|[0.03337857630844...|       0.0|\n",
      "|200031|  34503|  1.0|[0.47298076826942...|[-0.1081823121074...|       1.0|\n",
      "|200031| 227283|  0.0|[0.51448554654435...|[0.05795840510631...|       0.0|\n",
      "|200032| 218377|  0.0|[0.51256836708663...|[0.05028406088349...|       0.0|\n",
      "|200032| 110262|  0.0|[0.48927887356154...|[-0.0428910799068...|       1.0|\n",
      "|200032|  18681|  1.0|[0.46958336194595...|[-0.1218169696420...|       1.0|\n",
      "|200032| 138493|  1.0|[0.49535983884438...|[-0.0185611774913...|       1.0|\n",
      "|200032|  64167|  1.0|[0.47935762796589...|[-0.0826164474759...|       1.0|\n",
      "|200032|  22820|  0.0|[0.47047192046025...|[-0.1182499168951...|       1.0|\n",
      "+------+-------+-----+--------------------+--------------------+----------+\n",
      "only showing top 12 rows\n",
      "\n"
     ]
    }
   ],
   "source": [
    "predictions = lrModel.transform(test)\n",
    "predictions.select('userID','trackID','label','probability','rawPrediction','prediction').show(12)"
   ]
  },
  {
   "cell_type": "code",
   "execution_count": null,
   "id": "06c5fc85",
   "metadata": {},
   "outputs": [],
   "source": [
    "sort_predictions = predictions.select('userID','trackID','label','probability','rawprediction','prediction').sort(col('userID').asc(),col('probability').desc())\n",
    "sort_predictions.show(18)"
   ]
  },
  {
   "cell_type": "markdown",
   "id": "799986e2",
   "metadata": {},
   "source": [
    "# Linear Regression Classification Testing"
   ]
  },
  {
   "cell_type": "code",
   "execution_count": 470,
   "id": "cb294885",
   "metadata": {},
   "outputs": [
    {
     "name": "stdout",
     "output_type": "stream",
     "text": [
      "+------+-------+----------+\n",
      "|userID|TrackID|Prediction|\n",
      "+------+-------+----------+\n",
      "|199810| 208019|       0.0|\n",
      "|199810|  74139|       1.0|\n",
      "|199810|   9903|       1.0|\n",
      "|199810| 242681|       0.0|\n",
      "|199810|  18515|       1.0|\n",
      "|199810| 105760|       1.0|\n",
      "+------+-------+----------+\n",
      "only showing top 6 rows\n",
      "\n"
     ]
    }
   ],
   "source": [
    "predictions2 = lrModel.transform(df_final)\n",
    "\n",
    "predictions2.select('userID','TrackID','Prediction').show(6)"
   ]
  },
  {
   "cell_type": "markdown",
   "id": "8da68e31",
   "metadata": {},
   "source": [
    "# Export Linear Regression Predictions"
   ]
  },
  {
   "cell_type": "code",
   "execution_count": 476,
   "id": "0d20d2e6",
   "metadata": {},
   "outputs": [
    {
     "name": "stdout",
     "output_type": "stream",
     "text": [
      "+-------------+----------+\n",
      "|      TrackID|Prediction|\n",
      "+-------------+----------+\n",
      "|199810_208019|       0.0|\n",
      "| 199810_74139|       1.0|\n",
      "|  199810_9903|       1.0|\n",
      "|199810_242681|       0.0|\n",
      "| 199810_18515|       1.0|\n",
      "|199810_105760|       1.0|\n",
      "+-------------+----------+\n",
      "only showing top 6 rows\n",
      "\n"
     ]
    },
    {
     "name": "stderr",
     "output_type": "stream",
     "text": [
      "\r",
      "                                                                                \r"
     ]
    }
   ],
   "source": [
    "from pyspark.sql.functions import concat_ws,col\n",
    "\n",
    "new=predictions2.select(concat_ws('_',predictions2.userID,predictions2.TrackID)\n",
    "              .alias(\"TrackID\"),\"Prediction\")\n",
    "\n",
    "new.show(6)\n",
    "\n",
    "#new.coalesce(1).write.csv(\"new\")\n",
    "#new.toPandas().to_csv('newLR.csv',header=True)"
   ]
  },
  {
   "cell_type": "markdown",
   "id": "6decc206",
   "metadata": {},
   "source": [
    "# Decision Tree Classifier Training"
   ]
  },
  {
   "cell_type": "code",
   "execution_count": 295,
   "id": "aa870d8b",
   "metadata": {},
   "outputs": [
    {
     "name": "stdout",
     "output_type": "stream",
     "text": [
      "+------+-------+-----+--------------------+---------------+----------+\n",
      "|userID|trackID|label|         probability|  rawPrediction|prediction|\n",
      "+------+-------+-----+--------------------+---------------+----------+\n",
      "|200031|  34503|  1.0|[0.48773551368645...|[1372.0,1441.0]|       1.0|\n",
      "|200031| 227283|  0.0|[0.48773551368645...|[1372.0,1441.0]|       1.0|\n",
      "|200031|  30877|  1.0|[0.48773551368645...|[1372.0,1441.0]|       1.0|\n",
      "|200031| 130183|  0.0|[0.48773551368645...|[1372.0,1441.0]|       1.0|\n",
      "|200031| 198762|  0.0|[0.48773551368645...|[1372.0,1441.0]|       1.0|\n",
      "|200031|   8244|  1.0|[0.48773551368645...|[1372.0,1441.0]|       1.0|\n",
      "|200032| 138493|  1.0|[0.48773551368645...|[1372.0,1441.0]|       1.0|\n",
      "|200032|  22820|  0.0|[0.48773551368645...|[1372.0,1441.0]|       1.0|\n",
      "|200032| 110262|  0.0|[0.48773551368645...|[1372.0,1441.0]|       1.0|\n",
      "|200032|  64167|  1.0|[0.48773551368645...|[1372.0,1441.0]|       1.0|\n",
      "|200032| 218377|  0.0|[0.48773551368645...|[1372.0,1441.0]|       1.0|\n",
      "|200032|  18681|  1.0|[0.48773551368645...|[1372.0,1441.0]|       1.0|\n",
      "|200055|  52198|  1.0|[0.48773551368645...|[1372.0,1441.0]|       1.0|\n",
      "|200055| 233815|  0.0|[0.48773551368645...|[1372.0,1441.0]|       1.0|\n",
      "|200055|  59101|  0.0|[0.48773551368645...|[1372.0,1441.0]|       1.0|\n",
      "|200055| 175557|  0.0|[0.48773551368645...|[1372.0,1441.0]|       1.0|\n",
      "|200055|  56695|  1.0|[0.48773551368645...|[1372.0,1441.0]|       1.0|\n",
      "|200055| 134398|  1.0|[0.48773551368645...|[1372.0,1441.0]|       1.0|\n",
      "+------+-------+-----+--------------------+---------------+----------+\n",
      "only showing top 18 rows\n",
      "\n"
     ]
    }
   ],
   "source": [
    "dt = DecisionTreeClassifier(featuresCol = 'features',labelCol = 'label',maxDepth = 3)\n",
    "dtModel = dt.fit(train)\n",
    "predictions = dtModel.transform(test)\n",
    "sort_predictions = predictions.select('userID','trackID','label','probability','rawPrediction','prediction').sort(col('userID').asc(),col('probability').desc())\n",
    "sort_predictions.show(18)"
   ]
  },
  {
   "cell_type": "markdown",
   "id": "417b0b6d",
   "metadata": {},
   "source": [
    "# Decision Tree Classifier Testing"
   ]
  },
  {
   "cell_type": "code",
   "execution_count": 482,
   "id": "c795db2b",
   "metadata": {},
   "outputs": [
    {
     "name": "stdout",
     "output_type": "stream",
     "text": [
      "+-------------+----------+\n",
      "|      TrackID|Prediction|\n",
      "+-------------+----------+\n",
      "|199810_208019|       1.0|\n",
      "| 199810_74139|       1.0|\n",
      "|  199810_9903|       1.0|\n",
      "|199810_242681|       0.0|\n",
      "| 199810_18515|       1.0|\n",
      "|199810_105760|       1.0|\n",
      "+-------------+----------+\n",
      "only showing top 6 rows\n",
      "\n"
     ]
    },
    {
     "name": "stderr",
     "output_type": "stream",
     "text": [
      "                                                                                \r"
     ]
    }
   ],
   "source": [
    "predictions3 = dtModel.transform(df_final)\n",
    "\n",
    "\n",
    "predictions3=predictions3.select(concat_ws('_',predictions3.userID,predictions3.TrackID)\n",
    "              .alias(\"TrackID\"),\"Prediction\")\n",
    "\n",
    "predictions3.show(6)\n",
    "\n",
    "predictions3.coalesce(1).write.csv(\"DTC_Final2\")"
   ]
  },
  {
   "cell_type": "markdown",
   "id": "4d164be8",
   "metadata": {},
   "source": [
    "# Random Forest Classifier Training"
   ]
  },
  {
   "cell_type": "code",
   "execution_count": 296,
   "id": "3ab0d29e",
   "metadata": {},
   "outputs": [
    {
     "name": "stdout",
     "output_type": "stream",
     "text": [
      "+------+-------+-----+--------------------+--------------------+----------+\n",
      "|userId|trackID|label|         probability|       rawPrediction|prediction|\n",
      "+------+-------+-----+--------------------+--------------------+----------+\n",
      "|200031| 227283|  0.0|[0.55058545020718...|[11.0117090041436...|       0.0|\n",
      "|200031|  30877|  1.0|[0.52429651888575...|[10.4859303777151...|       0.0|\n",
      "|200031|  34503|  1.0|[0.52429651888575...|[10.4859303777151...|       0.0|\n",
      "|200031| 130183|  0.0|[0.49369533012773...|[9.87390660255474...|       1.0|\n",
      "|200031| 198762|  0.0|[0.43051185727636...|[8.61023714552730...|       1.0|\n",
      "|200031|   8244|  1.0|[0.29856434019707...|[5.97128680394149...|       1.0|\n",
      "+------+-------+-----+--------------------+--------------------+----------+\n",
      "only showing top 6 rows\n",
      "\n"
     ]
    }
   ],
   "source": [
    "rf = RandomForestClassifier(featuresCol = 'features',labelCol = 'label')\n",
    "rfModel = rf.fit(train)\n",
    "predictions = rfModel.transform(test)\n",
    "sort_predictions = predictions.select('userId','trackID','label','probability','rawPrediction','prediction').sort(col('userID').asc(),col('probability').desc())\n",
    "sort_predictions.show(6)"
   ]
  },
  {
   "cell_type": "markdown",
   "id": "88c8a40a",
   "metadata": {},
   "source": [
    "# Random Forest Classifier Testing"
   ]
  },
  {
   "cell_type": "code",
   "execution_count": 483,
   "id": "14f4d046",
   "metadata": {},
   "outputs": [
    {
     "name": "stderr",
     "output_type": "stream",
     "text": [
      "\r",
      "[Stage 989:>                                                        (0 + 1) / 1]\r"
     ]
    },
    {
     "name": "stdout",
     "output_type": "stream",
     "text": [
      "+-------------+----------+\n",
      "|      TrackID|Prediction|\n",
      "+-------------+----------+\n",
      "|199810_208019|       1.0|\n",
      "| 199810_74139|       0.0|\n",
      "|  199810_9903|       0.0|\n",
      "|199810_242681|       0.0|\n",
      "| 199810_18515|       0.0|\n",
      "|199810_105760|       0.0|\n",
      "+-------------+----------+\n",
      "only showing top 6 rows\n",
      "\n"
     ]
    },
    {
     "name": "stderr",
     "output_type": "stream",
     "text": [
      "\r",
      "                                                                                \r"
     ]
    }
   ],
   "source": [
    "predictions4 = rfModel.transform(df_final)\n",
    "\n",
    "predictions4=predictions4.select(concat_ws('_',predictions4.userID,predictions4.TrackID)\n",
    "              .alias(\"TrackID\"),\"Prediction\")\n",
    "predictions4.coalesce(1).write.csv(\"RFC\")\n",
    "\n",
    "predictions4.show(6)\n",
    "\n"
   ]
  },
  {
   "cell_type": "markdown",
   "id": "aa4a8cd2",
   "metadata": {},
   "source": [
    "# Gradient Boosted Tree Classifier Training"
   ]
  },
  {
   "cell_type": "code",
   "execution_count": 297,
   "id": "13581054",
   "metadata": {},
   "outputs": [
    {
     "name": "stdout",
     "output_type": "stream",
     "text": [
      "+------+-------+-----+--------------------+--------------------+----------+\n",
      "|userId|trackID|label|         probability|       rawPrediction|prediction|\n",
      "+------+-------+-----+--------------------+--------------------+----------+\n",
      "|200031| 130183|  0.0|[0.61973550218633...|[0.24421286008418...|       0.0|\n",
      "|200031|  30877|  1.0|[0.53819618830849...|[0.07654150254904...|       0.0|\n",
      "|200031|  34503|  1.0|[0.53819618830849...|[0.07654150254904...|       0.0|\n",
      "|200031| 227283|  0.0|[0.52476654742665...|[0.04957366486375...|       0.0|\n",
      "|200031|   8244|  1.0|[0.30106026900978...|[-0.4211270213915...|       1.0|\n",
      "|200031| 198762|  0.0|[0.13233369160449...|[-0.9402402520294...|       1.0|\n",
      "+------+-------+-----+--------------------+--------------------+----------+\n",
      "only showing top 6 rows\n",
      "\n"
     ]
    }
   ],
   "source": [
    "gbt = GBTClassifier(maxIter = 10)\n",
    "gbtModel = gbt.fit(train)\n",
    "predictions = gbtModel.transform(test)\n",
    "sort_predictions = predictions.select('userId','trackID','label','probability','rawPrediction','prediction').sort(col('userID').asc(),col('probability').desc())\n",
    "sort_predictions.show(6)"
   ]
  },
  {
   "cell_type": "markdown",
   "id": "941eb661",
   "metadata": {},
   "source": [
    "# Gradient Boosted Tree Classifier Testing"
   ]
  },
  {
   "cell_type": "code",
   "execution_count": 485,
   "id": "9339e2d0",
   "metadata": {},
   "outputs": [
    {
     "name": "stdout",
     "output_type": "stream",
     "text": [
      "+-------------+----------+\n",
      "|      TrackID|Prediction|\n",
      "+-------------+----------+\n",
      "|199810_208019|       1.0|\n",
      "| 199810_74139|       0.0|\n",
      "|  199810_9903|       0.0|\n",
      "|199810_242681|       0.0|\n",
      "| 199810_18515|       0.0|\n",
      "|199810_105760|       0.0|\n",
      "+-------------+----------+\n",
      "only showing top 6 rows\n",
      "\n"
     ]
    },
    {
     "name": "stderr",
     "output_type": "stream",
     "text": [
      "\r",
      "[Stage 991:>                                                        (0 + 1) / 1]\r",
      "\r",
      "                                                                                \r"
     ]
    }
   ],
   "source": [
    "predictions5 = gbtModel.transform(df_final)\n",
    "\n",
    "predictions5=predictions5.select(concat_ws('_',predictions5.userID,predictions5.TrackID)\n",
    "              .alias(\"TrackID\"),\"Prediction\")\n",
    "predictions5.coalesce(1).write.csv(\"GBTC\")\n",
    "\n",
    "predictions5.show(6)"
   ]
  }
 ],
 "metadata": {
  "kernelspec": {
   "display_name": "Python 3 (ipykernel)",
   "language": "python",
   "name": "python3"
  },
  "language_info": {
   "codemirror_mode": {
    "name": "ipython",
    "version": 3
   },
   "file_extension": ".py",
   "mimetype": "text/x-python",
   "name": "python",
   "nbconvert_exporter": "python",
   "pygments_lexer": "ipython3",
   "version": "3.9.10"
  }
 },
 "nbformat": 4,
 "nbformat_minor": 5
}
