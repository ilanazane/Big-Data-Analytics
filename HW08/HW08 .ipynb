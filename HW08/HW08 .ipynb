{
 "cells": [
  {
   "cell_type": "code",
   "execution_count": 1,
   "id": "8a419bbe",
   "metadata": {},
   "outputs": [],
   "source": [
    "import numpy as np \n",
    "from pyspark.ml.evaluation import RegressionEvaluator\n",
    "from pyspark.ml.recommendation import ALS\n",
    "from pyspark.sql import SparkSession\n"
   ]
  },
  {
   "cell_type": "code",
   "execution_count": 3,
   "id": "12b878d3",
   "metadata": {},
   "outputs": [
    {
     "name": "stderr",
     "output_type": "stream",
     "text": [
      "Using Spark's default log4j profile: org/apache/spark/log4j-defaults.properties\n",
      "Setting default log level to \"WARN\".\n",
      "To adjust logging level use sc.setLogLevel(newLevel). For SparkR, use setLogLevel(newLevel).\n",
      "22/04/15 17:23:56 WARN NativeCodeLoader: Unable to load native-hadoop library for your platform... using builtin-java classes where applicable\n",
      "22/04/15 17:23:56 WARN Utils: Service 'SparkUI' could not bind on port 4040. Attempting port 4041.\n"
     ]
    },
    {
     "name": "stdout",
     "output_type": "stream",
     "text": [
      "+------+------+---+\n",
      "|   _c0|   _c1|_c2|\n",
      "+------+------+---+\n",
      "|199808|248969| 90|\n",
      "|199808|  2663| 90|\n",
      "|199808| 28341| 90|\n",
      "|199808| 42563| 90|\n",
      "|199808| 59092| 90|\n",
      "+------+------+---+\n",
      "only showing top 5 rows\n",
      "\n"
     ]
    }
   ],
   "source": [
    "spark = SparkSession \\\n",
    "    .builder \\\n",
    "    .appName(\"Python Spark SQL basic example\") \\\n",
    "    .config(\"spark.some.config.option\", \"some-value\") \\\n",
    "    .getOrCreate()\n",
    "\n",
    "training = spark.read.csv(\"trainItem.data\",header=False)\n",
    "training.show(5)"
   ]
  },
  {
   "cell_type": "raw",
   "id": "28ae66d7",
   "metadata": {},
   "source": []
  },
  {
   "cell_type": "code",
   "execution_count": 16,
   "id": "192a4615",
   "metadata": {},
   "outputs": [
    {
     "name": "stdout",
     "output_type": "stream",
     "text": [
      "+------+------+------+\n",
      "|userID|itemID|rating|\n",
      "+------+------+------+\n",
      "|199808|248969|    90|\n",
      "|199808|  2663|    90|\n",
      "|199808| 28341|    90|\n",
      "|199808| 42563|    90|\n",
      "|199808| 59092|    90|\n",
      "+------+------+------+\n",
      "only showing top 5 rows\n",
      "\n"
     ]
    }
   ],
   "source": [
    "training = training.withColumnRenamed(\"_c0\", \"userID\").withColumnRenamed(\"_c1\", \"itemID\").withColumnRenamed(\"_c2\", \"rating\")\n",
    "training.show(5)"
   ]
  },
  {
   "cell_type": "code",
   "execution_count": 17,
   "id": "c96d2241",
   "metadata": {},
   "outputs": [
    {
     "name": "stdout",
     "output_type": "stream",
     "text": [
      "+------+------+------+\n",
      "|userID|itemID|rating|\n",
      "+------+------+------+\n",
      "|199808|248969|  90.0|\n",
      "|199808|  2663|  90.0|\n",
      "|199808| 28341|  90.0|\n",
      "+------+------+------+\n",
      "only showing top 3 rows\n",
      "\n"
     ]
    }
   ],
   "source": [
    "from pyspark.sql.types import IntegerType\n",
    "training = training.withColumn(\"userID\", training[\"userID\"].cast(IntegerType()))\n",
    "training = training.withColumn(\"itemID\", training[\"itemID\"].cast(IntegerType()))\n",
    "training = training.withColumn(\"rating\", training[\"rating\"].cast('float'))\n",
    "training.show(3)"
   ]
  },
  {
   "cell_type": "code",
   "execution_count": 4,
   "id": "34addf63",
   "metadata": {},
   "outputs": [
    {
     "name": "stderr",
     "output_type": "stream",
     "text": [
      "22/04/15 18:24:42 WARN HeartbeatReceiver: Removing executor driver with no recent heartbeats: 950455 ms exceeds timeout 120000 ms\n",
      "22/04/15 18:24:42 WARN SparkContext: Killing executors is not supported by current scheduler.\n"
     ]
    }
   ],
   "source": [
    "# Create ALS model\n",
    "als = ALS(\n",
    "    maxIter=5, \n",
    "    rank = 5,\n",
    "    regParam=0.01,\n",
    "    userCol=\"userID\", \n",
    "    itemCol=\"itemID\",\n",
    "    ratingCol=\"rating\", \n",
    "    nonnegative = True, \n",
    "    implicitPrefs = False,\n",
    "    coldStartStrategy=\"drop\"\n",
    ")"
   ]
  },
  {
   "cell_type": "code",
   "execution_count": 19,
   "id": "f8f726f0",
   "metadata": {},
   "outputs": [
    {
     "name": "stderr",
     "output_type": "stream",
     "text": [
      "22/04/15 11:26:40 WARN InstanceBuilder$NativeBLAS: Failed to load implementation from:dev.ludovic.netlib.blas.JNIBLAS\n",
      "22/04/15 11:26:40 WARN InstanceBuilder$NativeBLAS: Failed to load implementation from:dev.ludovic.netlib.blas.ForeignLinkerBLAS\n",
      "                                                                                \r"
     ]
    }
   ],
   "source": [
    "model = als.fit(training)"
   ]
  },
  {
   "cell_type": "code",
   "execution_count": 20,
   "id": "c8a83b59",
   "metadata": {},
   "outputs": [],
   "source": [
    "testing = spark.read.csv(\"testItem.data\", header = False)"
   ]
  },
  {
   "cell_type": "code",
   "execution_count": 21,
   "id": "527228fb",
   "metadata": {},
   "outputs": [
    {
     "name": "stdout",
     "output_type": "stream",
     "text": [
      "+------+------+------+\n",
      "|userID|itemID|rating|\n",
      "+------+------+------+\n",
      "|199810|208019|     0|\n",
      "|199810| 74139|     0|\n",
      "|199810|  9903|     0|\n",
      "|199810|242681|     0|\n",
      "|199810| 18515|     0|\n",
      "+------+------+------+\n",
      "only showing top 5 rows\n",
      "\n"
     ]
    }
   ],
   "source": [
    "testing = testing.withColumnRenamed(\"_c0\", \"userID\").withColumnRenamed(\"_c1\", \"itemID\").withColumnRenamed(\"_c2\", \"rating\")\n",
    "testing.show(5)"
   ]
  },
  {
   "cell_type": "code",
   "execution_count": 22,
   "id": "b04eba3a",
   "metadata": {},
   "outputs": [
    {
     "name": "stdout",
     "output_type": "stream",
     "text": [
      "+------+------+------+\n",
      "|userID|itemID|rating|\n",
      "+------+------+------+\n",
      "|199810|208019|   0.0|\n",
      "|199810| 74139|   0.0|\n",
      "|199810|  9903|   0.0|\n",
      "+------+------+------+\n",
      "only showing top 3 rows\n",
      "\n"
     ]
    }
   ],
   "source": [
    "testing = testing.withColumn(\"userID\", testing[\"userID\"].cast(IntegerType()))\n",
    "testing = testing.withColumn(\"itemID\", testing[\"itemID\"].cast(IntegerType()))\n",
    "testing = testing.withColumn(\"rating\", testing[\"rating\"].cast('float'))\n",
    "testing.show(3)"
   ]
  },
  {
   "cell_type": "code",
   "execution_count": 23,
   "id": "a90bf76d",
   "metadata": {},
   "outputs": [
    {
     "name": "stderr",
     "output_type": "stream",
     "text": [
      "                                                                                \r"
     ]
    },
    {
     "name": "stdout",
     "output_type": "stream",
     "text": [
      "+------+------+------+----------+\n",
      "|userID|itemID|rating|prediction|\n",
      "+------+------+------+----------+\n",
      "|233686|     1|   0.0|103.265686|\n",
      "|200179|    13|   0.0| 46.781307|\n",
      "|206335|    27|   0.0| 59.619865|\n",
      "|248282|    27|   0.0|  90.33147|\n",
      "|223017|    65|   0.0| 222.13089|\n",
      "+------+------+------+----------+\n",
      "only showing top 5 rows\n",
      "\n"
     ]
    }
   ],
   "source": [
    "predictions = model.transform(testing)\n",
    "predictions.show(5)"
   ]
  },
  {
   "cell_type": "code",
   "execution_count": 25,
   "id": "632234e6",
   "metadata": {},
   "outputs": [
    {
     "name": "stderr",
     "output_type": "stream",
     "text": [
      "                                                                                \r"
     ]
    }
   ],
   "source": [
    "# save dataframe to a single csv file \n",
    "# save dataframe into a folder 'predictions' \n",
    "# with a single file (coalesce(1))\n",
    "# but you can not assign the filename\n",
    "predictions.coalesce(1).write.csv(\"predictions\")"
   ]
  },
  {
   "cell_type": "code",
   "execution_count": 26,
   "id": "ffba43c3",
   "metadata": {},
   "outputs": [],
   "source": [
    "predictions.toPandas().to_csv('myprediction.csv')\n"
   ]
  },
  {
   "cell_type": "code",
   "execution_count": 49,
   "id": "c43c61fe",
   "metadata": {},
   "outputs": [
    {
     "data": {
      "text/html": [
       "<div>\n",
       "<style scoped>\n",
       "    .dataframe tbody tr th:only-of-type {\n",
       "        vertical-align: middle;\n",
       "    }\n",
       "\n",
       "    .dataframe tbody tr th {\n",
       "        vertical-align: top;\n",
       "    }\n",
       "\n",
       "    .dataframe thead th {\n",
       "        text-align: right;\n",
       "    }\n",
       "</style>\n",
       "<table border=\"1\" class=\"dataframe\">\n",
       "  <thead>\n",
       "    <tr style=\"text-align: right;\">\n",
       "      <th></th>\n",
       "      <th>userID</th>\n",
       "      <th>itemID</th>\n",
       "      <th>rating</th>\n",
       "      <th>prediction</th>\n",
       "    </tr>\n",
       "  </thead>\n",
       "  <tbody>\n",
       "    <tr>\n",
       "      <th>0</th>\n",
       "      <td>233686</td>\n",
       "      <td>1</td>\n",
       "      <td>0.0</td>\n",
       "      <td>103.265686</td>\n",
       "    </tr>\n",
       "    <tr>\n",
       "      <th>1</th>\n",
       "      <td>200179</td>\n",
       "      <td>13</td>\n",
       "      <td>0.0</td>\n",
       "      <td>46.781307</td>\n",
       "    </tr>\n",
       "    <tr>\n",
       "      <th>2</th>\n",
       "      <td>206335</td>\n",
       "      <td>27</td>\n",
       "      <td>0.0</td>\n",
       "      <td>59.619865</td>\n",
       "    </tr>\n",
       "    <tr>\n",
       "      <th>3</th>\n",
       "      <td>248282</td>\n",
       "      <td>27</td>\n",
       "      <td>0.0</td>\n",
       "      <td>90.331470</td>\n",
       "    </tr>\n",
       "    <tr>\n",
       "      <th>4</th>\n",
       "      <td>223017</td>\n",
       "      <td>65</td>\n",
       "      <td>0.0</td>\n",
       "      <td>222.130890</td>\n",
       "    </tr>\n",
       "    <tr>\n",
       "      <th>...</th>\n",
       "      <td>...</td>\n",
       "      <td>...</td>\n",
       "      <td>...</td>\n",
       "      <td>...</td>\n",
       "    </tr>\n",
       "    <tr>\n",
       "      <th>119969</th>\n",
       "      <td>237358</td>\n",
       "      <td>296000</td>\n",
       "      <td>0.0</td>\n",
       "      <td>43.422146</td>\n",
       "    </tr>\n",
       "    <tr>\n",
       "      <th>119970</th>\n",
       "      <td>248383</td>\n",
       "      <td>296016</td>\n",
       "      <td>0.0</td>\n",
       "      <td>54.893906</td>\n",
       "    </tr>\n",
       "    <tr>\n",
       "      <th>119971</th>\n",
       "      <td>235949</td>\n",
       "      <td>296028</td>\n",
       "      <td>0.0</td>\n",
       "      <td>69.734470</td>\n",
       "    </tr>\n",
       "    <tr>\n",
       "      <th>119972</th>\n",
       "      <td>220168</td>\n",
       "      <td>296042</td>\n",
       "      <td>0.0</td>\n",
       "      <td>69.251625</td>\n",
       "    </tr>\n",
       "    <tr>\n",
       "      <th>119973</th>\n",
       "      <td>216812</td>\n",
       "      <td>296042</td>\n",
       "      <td>0.0</td>\n",
       "      <td>81.416460</td>\n",
       "    </tr>\n",
       "  </tbody>\n",
       "</table>\n",
       "<p>119974 rows × 4 columns</p>\n",
       "</div>"
      ],
      "text/plain": [
       "        userID  itemID  rating  prediction\n",
       "0       233686       1     0.0  103.265686\n",
       "1       200179      13     0.0   46.781307\n",
       "2       206335      27     0.0   59.619865\n",
       "3       248282      27     0.0   90.331470\n",
       "4       223017      65     0.0  222.130890\n",
       "...        ...     ...     ...         ...\n",
       "119969  237358  296000     0.0   43.422146\n",
       "119970  248383  296016     0.0   54.893906\n",
       "119971  235949  296028     0.0   69.734470\n",
       "119972  220168  296042     0.0   69.251625\n",
       "119973  216812  296042     0.0   81.416460\n",
       "\n",
       "[119974 rows x 4 columns]"
      ]
     },
     "metadata": {},
     "output_type": "display_data"
    }
   ],
   "source": [
    "import pandas as pd \n",
    "\n",
    "df = pd.read_csv(\"myprediction.csv\")\n",
    "df = df.iloc[: , 1:5]\n",
    "display(df)"
   ]
  },
  {
   "cell_type": "code",
   "execution_count": 50,
   "id": "fb48612b",
   "metadata": {},
   "outputs": [
    {
     "data": {
      "text/html": [
       "<div>\n",
       "<style scoped>\n",
       "    .dataframe tbody tr th:only-of-type {\n",
       "        vertical-align: middle;\n",
       "    }\n",
       "\n",
       "    .dataframe tbody tr th {\n",
       "        vertical-align: top;\n",
       "    }\n",
       "\n",
       "    .dataframe thead th {\n",
       "        text-align: right;\n",
       "    }\n",
       "</style>\n",
       "<table border=\"1\" class=\"dataframe\">\n",
       "  <thead>\n",
       "    <tr style=\"text-align: right;\">\n",
       "      <th></th>\n",
       "      <th>userID</th>\n",
       "      <th>itemID</th>\n",
       "      <th>rating</th>\n",
       "      <th>prediction</th>\n",
       "    </tr>\n",
       "  </thead>\n",
       "  <tbody>\n",
       "    <tr>\n",
       "      <th>83952</th>\n",
       "      <td>199810</td>\n",
       "      <td>242681</td>\n",
       "      <td>0.0</td>\n",
       "      <td>51.552810</td>\n",
       "    </tr>\n",
       "    <tr>\n",
       "      <th>91442</th>\n",
       "      <td>199810</td>\n",
       "      <td>18515</td>\n",
       "      <td>0.0</td>\n",
       "      <td>63.371460</td>\n",
       "    </tr>\n",
       "    <tr>\n",
       "      <th>30962</th>\n",
       "      <td>199810</td>\n",
       "      <td>9903</td>\n",
       "      <td>0.0</td>\n",
       "      <td>58.694900</td>\n",
       "    </tr>\n",
       "    <tr>\n",
       "      <th>97116</th>\n",
       "      <td>199810</td>\n",
       "      <td>74139</td>\n",
       "      <td>0.0</td>\n",
       "      <td>40.278970</td>\n",
       "    </tr>\n",
       "    <tr>\n",
       "      <th>40757</th>\n",
       "      <td>199810</td>\n",
       "      <td>105760</td>\n",
       "      <td>0.0</td>\n",
       "      <td>60.111965</td>\n",
       "    </tr>\n",
       "    <tr>\n",
       "      <th>...</th>\n",
       "      <td>...</td>\n",
       "      <td>...</td>\n",
       "      <td>...</td>\n",
       "      <td>...</td>\n",
       "    </tr>\n",
       "    <tr>\n",
       "      <th>70678</th>\n",
       "      <td>249010</td>\n",
       "      <td>110470</td>\n",
       "      <td>0.0</td>\n",
       "      <td>56.495970</td>\n",
       "    </tr>\n",
       "    <tr>\n",
       "      <th>86206</th>\n",
       "      <td>249010</td>\n",
       "      <td>262811</td>\n",
       "      <td>0.0</td>\n",
       "      <td>68.190000</td>\n",
       "    </tr>\n",
       "    <tr>\n",
       "      <th>98157</th>\n",
       "      <td>249010</td>\n",
       "      <td>86104</td>\n",
       "      <td>0.0</td>\n",
       "      <td>101.365875</td>\n",
       "    </tr>\n",
       "    <tr>\n",
       "      <th>37209</th>\n",
       "      <td>249010</td>\n",
       "      <td>72192</td>\n",
       "      <td>0.0</td>\n",
       "      <td>107.374115</td>\n",
       "    </tr>\n",
       "    <tr>\n",
       "      <th>108763</th>\n",
       "      <td>249010</td>\n",
       "      <td>186634</td>\n",
       "      <td>0.0</td>\n",
       "      <td>79.307076</td>\n",
       "    </tr>\n",
       "  </tbody>\n",
       "</table>\n",
       "<p>119974 rows × 4 columns</p>\n",
       "</div>"
      ],
      "text/plain": [
       "        userID  itemID  rating  prediction\n",
       "83952   199810  242681     0.0   51.552810\n",
       "91442   199810   18515     0.0   63.371460\n",
       "30962   199810    9903     0.0   58.694900\n",
       "97116   199810   74139     0.0   40.278970\n",
       "40757   199810  105760     0.0   60.111965\n",
       "...        ...     ...     ...         ...\n",
       "70678   249010  110470     0.0   56.495970\n",
       "86206   249010  262811     0.0   68.190000\n",
       "98157   249010   86104     0.0  101.365875\n",
       "37209   249010   72192     0.0  107.374115\n",
       "108763  249010  186634     0.0   79.307076\n",
       "\n",
       "[119974 rows x 4 columns]"
      ]
     },
     "metadata": {},
     "output_type": "display_data"
    }
   ],
   "source": [
    "df = df.sort_values(by=['userID'])\n",
    "#display(df.iloc[0:20,:])\n",
    "display(df)"
   ]
  },
  {
   "cell_type": "code",
   "execution_count": 57,
   "id": "c43b118c",
   "metadata": {},
   "outputs": [
    {
     "data": {
      "text/html": [
       "<div>\n",
       "<style scoped>\n",
       "    .dataframe tbody tr th:only-of-type {\n",
       "        vertical-align: middle;\n",
       "    }\n",
       "\n",
       "    .dataframe tbody tr th {\n",
       "        vertical-align: top;\n",
       "    }\n",
       "\n",
       "    .dataframe thead th {\n",
       "        text-align: right;\n",
       "    }\n",
       "</style>\n",
       "<table border=\"1\" class=\"dataframe\">\n",
       "  <thead>\n",
       "    <tr style=\"text-align: right;\">\n",
       "      <th></th>\n",
       "      <th>userID</th>\n",
       "      <th>itemID</th>\n",
       "      <th>rating</th>\n",
       "      <th>prediction</th>\n",
       "    </tr>\n",
       "  </thead>\n",
       "  <tbody>\n",
       "    <tr>\n",
       "      <th>83952</th>\n",
       "      <td>199810</td>\n",
       "      <td>242681</td>\n",
       "      <td>0.0</td>\n",
       "      <td>51.552810</td>\n",
       "    </tr>\n",
       "    <tr>\n",
       "      <th>91442</th>\n",
       "      <td>199810</td>\n",
       "      <td>18515</td>\n",
       "      <td>0.0</td>\n",
       "      <td>63.371460</td>\n",
       "    </tr>\n",
       "    <tr>\n",
       "      <th>30962</th>\n",
       "      <td>199810</td>\n",
       "      <td>9903</td>\n",
       "      <td>0.0</td>\n",
       "      <td>58.694900</td>\n",
       "    </tr>\n",
       "    <tr>\n",
       "      <th>97116</th>\n",
       "      <td>199810</td>\n",
       "      <td>74139</td>\n",
       "      <td>0.0</td>\n",
       "      <td>40.278970</td>\n",
       "    </tr>\n",
       "    <tr>\n",
       "      <th>40757</th>\n",
       "      <td>199810</td>\n",
       "      <td>105760</td>\n",
       "      <td>0.0</td>\n",
       "      <td>60.111965</td>\n",
       "    </tr>\n",
       "    <tr>\n",
       "      <th>...</th>\n",
       "      <td>...</td>\n",
       "      <td>...</td>\n",
       "      <td>...</td>\n",
       "      <td>...</td>\n",
       "    </tr>\n",
       "    <tr>\n",
       "      <th>43028</th>\n",
       "      <td>249008</td>\n",
       "      <td>127497</td>\n",
       "      <td>0.0</td>\n",
       "      <td>41.112793</td>\n",
       "    </tr>\n",
       "    <tr>\n",
       "      <th>30437</th>\n",
       "      <td>249008</td>\n",
       "      <td>4967</td>\n",
       "      <td>0.0</td>\n",
       "      <td>5.049868</td>\n",
       "    </tr>\n",
       "    <tr>\n",
       "      <th>76418</th>\n",
       "      <td>249008</td>\n",
       "      <td>165413</td>\n",
       "      <td>0.0</td>\n",
       "      <td>94.791820</td>\n",
       "    </tr>\n",
       "    <tr>\n",
       "      <th>59508</th>\n",
       "      <td>249010</td>\n",
       "      <td>293818</td>\n",
       "      <td>0.0</td>\n",
       "      <td>130.840970</td>\n",
       "    </tr>\n",
       "    <tr>\n",
       "      <th>70678</th>\n",
       "      <td>249010</td>\n",
       "      <td>110470</td>\n",
       "      <td>0.0</td>\n",
       "      <td>56.495970</td>\n",
       "    </tr>\n",
       "  </tbody>\n",
       "</table>\n",
       "<p>119970 rows × 4 columns</p>\n",
       "</div>"
      ],
      "text/plain": [
       "       userID  itemID  rating  prediction\n",
       "83952  199810  242681     0.0   51.552810\n",
       "91442  199810   18515     0.0   63.371460\n",
       "30962  199810    9903     0.0   58.694900\n",
       "97116  199810   74139     0.0   40.278970\n",
       "40757  199810  105760     0.0   60.111965\n",
       "...       ...     ...     ...         ...\n",
       "43028  249008  127497     0.0   41.112793\n",
       "30437  249008    4967     0.0    5.049868\n",
       "76418  249008  165413     0.0   94.791820\n",
       "59508  249010  293818     0.0  130.840970\n",
       "70678  249010  110470     0.0   56.495970\n",
       "\n",
       "[119970 rows x 4 columns]"
      ]
     },
     "execution_count": 57,
     "metadata": {},
     "output_type": "execute_result"
    }
   ],
   "source": [
    "test = df.iloc[:119970,:]\n",
    "test\n"
   ]
  },
  {
   "cell_type": "code",
   "execution_count": 58,
   "id": "01698ddb",
   "metadata": {},
   "outputs": [
    {
     "name": "stdout",
     "output_type": "stream",
     "text": [
      "119970\n"
     ]
    },
    {
     "data": {
      "text/html": [
       "<div>\n",
       "<style scoped>\n",
       "    .dataframe tbody tr th:only-of-type {\n",
       "        vertical-align: middle;\n",
       "    }\n",
       "\n",
       "    .dataframe tbody tr th {\n",
       "        vertical-align: top;\n",
       "    }\n",
       "\n",
       "    .dataframe thead th {\n",
       "        text-align: right;\n",
       "    }\n",
       "</style>\n",
       "<table border=\"1\" class=\"dataframe\">\n",
       "  <thead>\n",
       "    <tr style=\"text-align: right;\">\n",
       "      <th></th>\n",
       "      <th>userID</th>\n",
       "      <th>itemID</th>\n",
       "      <th>rating</th>\n",
       "      <th>prediction</th>\n",
       "    </tr>\n",
       "  </thead>\n",
       "  <tbody>\n",
       "    <tr>\n",
       "      <th>97116</th>\n",
       "      <td>199810</td>\n",
       "      <td>74139</td>\n",
       "      <td>0</td>\n",
       "      <td>40.278970</td>\n",
       "    </tr>\n",
       "    <tr>\n",
       "      <th>83952</th>\n",
       "      <td>199810</td>\n",
       "      <td>242681</td>\n",
       "      <td>0</td>\n",
       "      <td>51.552810</td>\n",
       "    </tr>\n",
       "    <tr>\n",
       "      <th>110786</th>\n",
       "      <td>199810</td>\n",
       "      <td>208019</td>\n",
       "      <td>0</td>\n",
       "      <td>51.897552</td>\n",
       "    </tr>\n",
       "    <tr>\n",
       "      <th>30962</th>\n",
       "      <td>199810</td>\n",
       "      <td>9903</td>\n",
       "      <td>1</td>\n",
       "      <td>58.694900</td>\n",
       "    </tr>\n",
       "    <tr>\n",
       "      <th>40757</th>\n",
       "      <td>199810</td>\n",
       "      <td>105760</td>\n",
       "      <td>1</td>\n",
       "      <td>60.111965</td>\n",
       "    </tr>\n",
       "    <tr>\n",
       "      <th>...</th>\n",
       "      <td>...</td>\n",
       "      <td>...</td>\n",
       "      <td>...</td>\n",
       "      <td>...</td>\n",
       "    </tr>\n",
       "    <tr>\n",
       "      <th>43028</th>\n",
       "      <td>249008</td>\n",
       "      <td>127497</td>\n",
       "      <td>0</td>\n",
       "      <td>41.112793</td>\n",
       "    </tr>\n",
       "    <tr>\n",
       "      <th>70678</th>\n",
       "      <td>249010</td>\n",
       "      <td>110470</td>\n",
       "      <td>0</td>\n",
       "      <td>56.495970</td>\n",
       "    </tr>\n",
       "    <tr>\n",
       "      <th>50196</th>\n",
       "      <td>249008</td>\n",
       "      <td>197975</td>\n",
       "      <td>1</td>\n",
       "      <td>83.366890</td>\n",
       "    </tr>\n",
       "    <tr>\n",
       "      <th>76418</th>\n",
       "      <td>249008</td>\n",
       "      <td>165413</td>\n",
       "      <td>1</td>\n",
       "      <td>94.791820</td>\n",
       "    </tr>\n",
       "    <tr>\n",
       "      <th>59508</th>\n",
       "      <td>249010</td>\n",
       "      <td>293818</td>\n",
       "      <td>1</td>\n",
       "      <td>130.840970</td>\n",
       "    </tr>\n",
       "  </tbody>\n",
       "</table>\n",
       "<p>119970 rows × 4 columns</p>\n",
       "</div>"
      ],
      "text/plain": [
       "        userID  itemID  rating  prediction\n",
       "97116   199810   74139       0   40.278970\n",
       "83952   199810  242681       0   51.552810\n",
       "110786  199810  208019       0   51.897552\n",
       "30962   199810    9903       1   58.694900\n",
       "40757   199810  105760       1   60.111965\n",
       "...        ...     ...     ...         ...\n",
       "43028   249008  127497       0   41.112793\n",
       "70678   249010  110470       0   56.495970\n",
       "50196   249008  197975       1   83.366890\n",
       "76418   249008  165413       1   94.791820\n",
       "59508   249010  293818       1  130.840970\n",
       "\n",
       "[119970 rows x 4 columns]"
      ]
     },
     "metadata": {},
     "output_type": "display_data"
    }
   ],
   "source": [
    "a = 0\n",
    "newdf = pd.DataFrame([])\n",
    "print(len(test))\n",
    "for i in range(len(test)):\n",
    "    #print(a)\n",
    "    x = test.iloc[a:a+6,:]\n",
    "    x = x.sort_values(by=['prediction'])\n",
    "    x['rating'] = [0,0,0,1,1,1]\n",
    "    a = a+6\n",
    "    #print(a)\n",
    "    #print(i)\n",
    "    #isplay(x)\n",
    "    newdf = pd.concat([newdf,x])\n",
    "    newdf = newdf.dropna()\n",
    "    #isplay(newdf)\n",
    "\n",
    "newdf[\"userID\"] = newdf[\"userID\"].round().astype(int)\n",
    "newdf[\"itemID\"] = newdf[\"itemID\"].round().astype(int)\n",
    "display(newdf)\n",
    "    \n",
    "\n",
    "\n"
   ]
  },
  {
   "cell_type": "code",
   "execution_count": 59,
   "id": "9c7a0e02",
   "metadata": {},
   "outputs": [],
   "source": [
    "newdf.to_csv('mypredz2.csv')"
   ]
  },
  {
   "cell_type": "code",
   "execution_count": null,
   "id": "53f35c84",
   "metadata": {},
   "outputs": [],
   "source": []
  }
 ],
 "metadata": {
  "kernelspec": {
   "display_name": "Python 3 (ipykernel)",
   "language": "python",
   "name": "python3"
  },
  "language_info": {
   "codemirror_mode": {
    "name": "ipython",
    "version": 3
   },
   "file_extension": ".py",
   "mimetype": "text/x-python",
   "name": "python",
   "nbconvert_exporter": "python",
   "pygments_lexer": "ipython3",
   "version": "3.9.10"
  }
 },
 "nbformat": 4,
 "nbformat_minor": 5
}
