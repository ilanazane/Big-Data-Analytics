{
 "cells": [
  {
   "cell_type": "code",
   "execution_count": 1,
   "id": "7b347336",
   "metadata": {},
   "outputs": [],
   "source": [
    "import numpy as np"
   ]
  },
  {
   "cell_type": "code",
   "execution_count": 2,
   "id": "0efc534a",
   "metadata": {},
   "outputs": [],
   "source": [
    "# R = matrix to be factorized. size n x m \n",
    "# P = initial matrix. size n x k \n",
    "# Q = initial matrix. size m x k \n",
    "# K = number of latent features \n",
    "# steps = maximum number of steps to perform optimization \n",
    "# alpha = learning rate \n",
    "# beta = regularization parameter "
   ]
  },
  {
   "cell_type": "code",
   "execution_count": 9,
   "id": "9993ec12",
   "metadata": {},
   "outputs": [
    {
     "name": "stdout",
     "output_type": "stream",
     "text": [
      "[[5.00363976 2.90998183 4.92843088 0.99767828]\n",
      " [3.95604794 2.30734352 4.06332327 0.99621578]\n",
      " [1.08534912 0.78251928 4.88420956 4.96237627]\n",
      " [0.95689534 0.67706025 3.98224941 3.97214209]\n",
      " [2.00113242 1.27979304 4.89562907 4.03709523]]\n"
     ]
    }
   ],
   "source": [
    "# R = np.array([[5,3,0,1],[4,0,0,1],[1,1,0,5],[1,0,0,4],[0,1,5,4]])\n",
    "# N = len(R)\n",
    "# M = len(R[0])\n",
    "# K = 2\n",
    "\n",
    "# P = np.random.rand(N,K)\n",
    "# Q = np.random.rand(M,K)\n",
    "\n",
    "# steps = 5000\n",
    "# alpha = 0.0002\n",
    "# beta = 0.02\n",
    "\n",
    "# Q = np.transpose(Q)\n",
    "# for step in range(steps):\n",
    "#     for row in range(len(R)):\n",
    "#         for col in range(len(R[row])):\n",
    "#             #main matrix R is searched at every iteration so we only take into consideration the populated cells \n",
    "#             if R[row][col] > 0:\n",
    "#                 #dot product of P and Q are subtracted from original matrix to find the error \n",
    "#                 #minimize until we approach the minimum\n",
    "#                 eij = R[row][col]-np.dot(P[row,:],Q[:,col])\n",
    "#                 for k in range(K):\n",
    "#                     #calculate the gradient of P and Q, and update \n",
    "#                     P[row][k] = P[row][k] + alpha*(2*eij*Q[k][col]-beta*P[row][k])\n",
    "#                     Q[k][col] = Q[k][col] + alpha*(2*eij*P[row][k]-beta*Q[k][col])\n",
    "#     #eR = np.dot(P,Q)\n",
    "#     #add regularization parameter, beta, to avoid obtaining large numbers for R \n",
    "#     e = 0\n",
    "#     for row in range(len(R)):\n",
    "#         for col in range(len(R[row])):\n",
    "#             if R[row][col] > 0:\n",
    "#                 e = e+pow(R[row][col]-np.dot(P[row,:],Q[:,col]),2)\n",
    "#                 for k in range(K):\n",
    "#                     e = e +(beta/2)*(pow(P[row][k],2)+pow(Q[k][col],2))\n",
    "#     #if error is small enough break \n",
    "#     if e <0.001:\n",
    "#         break \n",
    "# nr = np.dot(P,Q)\n",
    "# print(nr)\n",
    "\n"
   ]
  },
  {
   "cell_type": "markdown",
   "id": "4ba8e472",
   "metadata": {},
   "source": [
    "# Matrix Factorization Function"
   ]
  },
  {
   "cell_type": "code",
   "execution_count": 10,
   "id": "54d83aac",
   "metadata": {},
   "outputs": [],
   "source": [
    "def matrix_factorization(R,P,Q,K,steps,alpha,beta):\n",
    "    Q = np.transpose(Q)\n",
    "    for step in range(steps):\n",
    "        for row in range(len(R)):\n",
    "            for col in range(len(R[row])):\n",
    "                #main matrix R is searched at every iteration so we only take into consideration the populated cells \n",
    "                if R[row][col] > 0:\n",
    "                    #dot product of P and Q are subtracted from original matrix to find the error \n",
    "                    #minimize until we approach the minimum\n",
    "                    eij = R[row][col]-np.dot(P[row,:],Q[:,col])\n",
    "                    for k in range(K):\n",
    "                        #calculate the gradient of P and Q, and update \n",
    "                        P[row][k] = P[row][k] + alpha*(2*eij*Q[k][col]-beta*P[row][k])\n",
    "                        Q[k][col] = Q[k][col] + alpha*(2*eij*P[row][k]-beta*Q[k][col])\n",
    "        #eR = np.dot(P,Q)\n",
    "        #add regularization parameter, beta, to avoid obtaining large numbers for R \n",
    "        e = 0\n",
    "        for row in range(len(R)):\n",
    "            for col in range(len(R[row])):\n",
    "                if R[row][col] > 0:\n",
    "                    e = e+pow(R[row][col]-np.dot(P[row,:],Q[:,col]),2)\n",
    "                    for k in range(K):\n",
    "                        e = e +(beta/2)*(pow(P[row][k],2)+pow(Q[k][col],2))\n",
    "        #if error is small enough break \n",
    "        if e <0.001:\n",
    "            break \n",
    "    return P,Q\n",
    "#nr = np.dot(P,Q)\n",
    "#print(nr)"
   ]
  },
  {
   "cell_type": "markdown",
   "id": "3bfd6228",
   "metadata": {},
   "source": [
    "# Change Inputs and Run Function "
   ]
  },
  {
   "cell_type": "code",
   "execution_count": 14,
   "id": "c6ce7dc4",
   "metadata": {},
   "outputs": [
    {
     "name": "stdout",
     "output_type": "stream",
     "text": [
      "[[ 3.77124722  3.26713026  4.97258642  1.12664765  1.78845154]\n",
      " [ 4.98615936  4.67765184  6.0361502   0.96203012  2.13993669]\n",
      " [ 1.04332951  1.93739921  0.99934294  4.948489    4.02390732]\n",
      " [ 1.00426094  1.24337301  1.57316389  3.98817962  3.11648187]\n",
      " [ 2.34043172  0.97901536  4.9920237   3.96632499  2.93579246]\n",
      " [ 5.12420249  4.7958313   5.91161108 -0.60895953  1.1114315 ]]\n"
     ]
    }
   ],
   "source": [
    "R = np.array([[4,3,0,1,2],[5,0,0,1,0],[1,2,1,5,4],[1,0,0,4,0],[0,1,5,4,0],[5,5,0,0,1]])\n",
    "N = len(R)\n",
    "M = len(R[0])\n",
    "K = 3\n",
    "P = np.random.rand(N,K)\n",
    "Q = np.random.rand(M,K)\n",
    "\n",
    "steps = 10000\n",
    "alpha = 0.0002\n",
    "beta = 0.02\n",
    "\n",
    "nP,nQ = matrix_factorization(R,P,Q,K,steps,alpha,beta)\n",
    "final = np.dot(nP,nQ)\n",
    "print(final)"
   ]
  },
  {
   "cell_type": "code",
   "execution_count": null,
   "id": "3929a115",
   "metadata": {},
   "outputs": [],
   "source": []
  }
 ],
 "metadata": {
  "kernelspec": {
   "display_name": "Python 3 (ipykernel)",
   "language": "python",
   "name": "python3"
  },
  "language_info": {
   "codemirror_mode": {
    "name": "ipython",
    "version": 3
   },
   "file_extension": ".py",
   "mimetype": "text/x-python",
   "name": "python",
   "nbconvert_exporter": "python",
   "pygments_lexer": "ipython3",
   "version": "3.9.10"
  }
 },
 "nbformat": 4,
 "nbformat_minor": 5
}
