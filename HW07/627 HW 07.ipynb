{
 "cells": [
  {
   "cell_type": "code",
   "execution_count": 56,
   "id": "009e33a7",
   "metadata": {},
   "outputs": [],
   "source": [
    "import numpy as np\n",
    "import pandas as pd\n",
    "import matplotlib.pyplot as plt\n"
   ]
  },
  {
   "cell_type": "code",
   "execution_count": 57,
   "id": "4ec0175d",
   "metadata": {},
   "outputs": [
    {
     "data": {
      "text/html": [
       "<div>\n",
       "<style scoped>\n",
       "    .dataframe tbody tr th:only-of-type {\n",
       "        vertical-align: middle;\n",
       "    }\n",
       "\n",
       "    .dataframe tbody tr th {\n",
       "        vertical-align: top;\n",
       "    }\n",
       "\n",
       "    .dataframe thead th {\n",
       "        text-align: right;\n",
       "    }\n",
       "</style>\n",
       "<table border=\"1\" class=\"dataframe\">\n",
       "  <thead>\n",
       "    <tr style=\"text-align: right;\">\n",
       "      <th></th>\n",
       "      <th>Mkt-RF</th>\n",
       "      <th>SMB</th>\n",
       "      <th>HML</th>\n",
       "      <th>Mom</th>\n",
       "    </tr>\n",
       "  </thead>\n",
       "  <tbody>\n",
       "    <tr>\n",
       "      <th>0</th>\n",
       "      <td>-0.10</td>\n",
       "      <td>-0.09</td>\n",
       "      <td>4.72</td>\n",
       "      <td>0.36</td>\n",
       "    </tr>\n",
       "    <tr>\n",
       "      <th>1</th>\n",
       "      <td>4.32</td>\n",
       "      <td>0.31</td>\n",
       "      <td>3.40</td>\n",
       "      <td>-1.67</td>\n",
       "    </tr>\n",
       "    <tr>\n",
       "      <th>2</th>\n",
       "      <td>0.33</td>\n",
       "      <td>-1.77</td>\n",
       "      <td>-2.42</td>\n",
       "      <td>2.97</td>\n",
       "    </tr>\n",
       "    <tr>\n",
       "      <th>3</th>\n",
       "      <td>0.42</td>\n",
       "      <td>0.30</td>\n",
       "      <td>1.03</td>\n",
       "      <td>4.53</td>\n",
       "    </tr>\n",
       "    <tr>\n",
       "      <th>4</th>\n",
       "      <td>5.36</td>\n",
       "      <td>0.67</td>\n",
       "      <td>3.41</td>\n",
       "      <td>3.41</td>\n",
       "    </tr>\n",
       "    <tr>\n",
       "      <th>...</th>\n",
       "      <td>...</td>\n",
       "      <td>...</td>\n",
       "      <td>...</td>\n",
       "      <td>...</td>\n",
       "    </tr>\n",
       "    <tr>\n",
       "      <th>943</th>\n",
       "      <td>-0.89</td>\n",
       "      <td>-0.94</td>\n",
       "      <td>1.40</td>\n",
       "      <td>2.22</td>\n",
       "    </tr>\n",
       "    <tr>\n",
       "      <th>944</th>\n",
       "      <td>0.77</td>\n",
       "      <td>-0.77</td>\n",
       "      <td>1.15</td>\n",
       "      <td>3.48</td>\n",
       "    </tr>\n",
       "    <tr>\n",
       "      <th>945</th>\n",
       "      <td>-2.35</td>\n",
       "      <td>-0.99</td>\n",
       "      <td>-0.78</td>\n",
       "      <td>-1.42</td>\n",
       "    </tr>\n",
       "    <tr>\n",
       "      <th>946</th>\n",
       "      <td>3.73</td>\n",
       "      <td>1.01</td>\n",
       "      <td>-1.73</td>\n",
       "      <td>0.42</td>\n",
       "    </tr>\n",
       "    <tr>\n",
       "      <th>947</th>\n",
       "      <td>0.03</td>\n",
       "      <td>-0.48</td>\n",
       "      <td>0.47</td>\n",
       "      <td>0.75</td>\n",
       "    </tr>\n",
       "  </tbody>\n",
       "</table>\n",
       "<p>948 rows × 4 columns</p>\n",
       "</div>"
      ],
      "text/plain": [
       "     Mkt-RF   SMB   HML   Mom\n",
       "0     -0.10 -0.09  4.72  0.36\n",
       "1      4.32  0.31  3.40 -1.67\n",
       "2      0.33 -1.77 -2.42  2.97\n",
       "3      0.42  0.30  1.03  4.53\n",
       "4      5.36  0.67  3.41  3.41\n",
       "..      ...   ...   ...   ...\n",
       "943   -0.89 -0.94  1.40  2.22\n",
       "944    0.77 -0.77  1.15  3.48\n",
       "945   -2.35 -0.99 -0.78 -1.42\n",
       "946    3.73  1.01 -1.73  0.42\n",
       "947    0.03 -0.48  0.47  0.75\n",
       "\n",
       "[948 rows x 4 columns]"
      ]
     },
     "metadata": {},
     "output_type": "display_data"
    }
   ],
   "source": [
    "df = pd.read_csv(\"EE627A_HW1_Data.csv\")\n",
    "df2=df[[\"Mkt-RF\",\"SMB\",\"HML\",\"Mom\"]]\n",
    "display(df2)"
   ]
  },
  {
   "cell_type": "code",
   "execution_count": 64,
   "id": "e711413c",
   "metadata": {},
   "outputs": [
    {
     "name": "stdout",
     "output_type": "stream",
     "text": [
      "[[ 0.73797414  2.49950955]\n",
      " [ 4.95080953  0.79109403]\n",
      " [-2.63799883 -2.14914779]\n",
      " ...\n",
      " [-1.75339773  2.95721791]\n",
      " [ 2.15142796 -2.51324139]\n",
      " [-0.61361135  0.50843935]]\n"
     ]
    },
    {
     "data": {
      "text/plain": [
       "<matplotlib.legend.Legend at 0x12a23ec40>"
      ]
     },
     "execution_count": 64,
     "metadata": {},
     "output_type": "execute_result"
    },
    {
     "data": {
      "image/png": "[encoded data removed]",
      "text/plain": [
       "<Figure size 432x288 with 1 Axes>"
      ]
     },
     "metadata": {
      "needs_background": "light"
     },
     "output_type": "display_data"
    }
   ],
   "source": [
    "from sklearn.decomposition import PCA \n",
    "pca = PCA(n_components = 2)\n",
    "X2D = pca.fit_transform(df2)\n",
    "print(X2D)\n",
    "#plot = plt.scatter(X2D[:,0], X2D[:,1])\n",
    "\n",
    "comp_1 = X2D[:,0] \n",
    "x = np.linspace(0,len(comp_1), len(comp_1))\n",
    "\n",
    "plt.scatter(x, comp_1,label='PCA1')\n",
    "\n",
    "\n",
    "comp_2 = X2D[:,1] \n",
    "x = np.linspace(0,len(comp_2), len(comp_2))\n",
    "\n",
    "plt.scatter(x, comp_2,label='PCA2')\n",
    "\n",
    "plt.legend()"
   ]
  },
  {
   "cell_type": "code",
   "execution_count": null,
   "id": "56f416b9",
   "metadata": {},
   "outputs": [],
   "source": []
  },
  {
   "cell_type": "code",
   "execution_count": null,
   "id": "b3872660",
   "metadata": {},
   "outputs": [],
   "source": []
  }
 ],
 "metadata": {
  "kernelspec": {
   "display_name": "Python 3 (ipykernel)",
   "language": "python",
   "name": "python3"
  },
  "language_info": {
   "codemirror_mode": {
    "name": "ipython",
    "version": 3
   },
   "file_extension": ".py",
   "mimetype": "text/x-python",
   "name": "python",
   "nbconvert_exporter": "python",
   "pygments_lexer": "ipython3",
   "version": "3.9.10"
  }
 },
 "nbformat": 4,
 "nbformat_minor": 5
}
